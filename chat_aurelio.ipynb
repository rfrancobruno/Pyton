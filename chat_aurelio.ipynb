{
  "nbformat": 4,
  "nbformat_minor": 0,
  "metadata": {
    "colab": {
      "provenance": [],
      "include_colab_link": true
    },
    "kernelspec": {
      "name": "python3",
      "display_name": "Python 3"
    },
    "language_info": {
      "name": "python"
    }
  },
  "cells": [
    {
      "cell_type": "markdown",
      "metadata": {
        "id": "view-in-github",
        "colab_type": "text"
      },
      "source": [
        "<a href=\"https://colab.research.google.com/github/rfrancobruno/Pyton/blob/main/chat_aurelio.ipynb\" target=\"_parent\"><img src=\"https://colab.research.google.com/assets/colab-badge.svg\" alt=\"Open In Colab\"/></a>"
      ]
    },
    {
      "cell_type": "code",
      "execution_count": null,
      "metadata": {
        "colab": {
          "base_uri": "https://localhost:8080/"
        },
        "id": "NgcIpvkSFF-l",
        "outputId": "dc29ebad-4b69-4de8-a5a0-c49c5b88244b"
      },
      "outputs": [
        {
          "output_type": "stream",
          "name": "stdout",
          "text": [
            "Dados das ações da PETR4.SA baixados e salvos em dados_petr4.csv\n"
          ]
        }
      ],
      "source": [
        "#Execute a seguinte instrução usando um recuros gratuito de uma api\n",
        "#\" Crie uma função em python que seja capaz de utilizar a API do Alpha Vantage para\n",
        " #baixar os dados históricos\n",
        " #diários das ações da Petrobras (código PETR4) e salvar esses dados como um arquivo .csv\"\n",
        "import yfinance as yf\n",
        "import pandas as pd\n",
        "\n",
        "def download_stock_data(symbol, output_file):\n",
        "    ticker = yf.Ticker(symbol)\n",
        "    data = ticker.history(period=\"max\")\n",
        "    data.to_csv(output_file)\n",
        "    print(f\"Dados das ações da {symbol} baixados e salvos em {output_file}\")\n",
        "\n",
        "# Insira o símbolo da ação desejada\n",
        "symbol = \"PETR4.SA\"\n",
        "\n",
        "# Insira o caminho e o nome do arquivo CSV de saída\n",
        "output_file = \"dados_petr4.csv\"\n",
        "\n",
        "download_stock_data(symbol, output_file)"
      ]
    },
    {
      "cell_type": "code",
      "source": [
        "#Construa o seguinte código em python:\n",
        "#\"Crie uma função em python que receba um nome de arquivo .csv, carregue o conteúdo\n",
        " #do arquivo e retorne um dataframe contendo o valor do arquivo. A partir dessa função,\n",
        " # carregue o conteúdo do \n",
        "#arquivo .csv da segunda pergunta acima  e imprima o conteúdo das últimas 10 linhas\"\n",
        "import pandas as pd\n",
        "\n",
        "def load_csv_to_dataframe(file_name):\n",
        "    dataframe = pd.read_csv(file_name)\n",
        "    return dataframe\n",
        "\n",
        "# Insira o caminho e o nome do arquivo .csv\n",
        "file_name = \"dados_petr4.csv\"\n",
        "\n",
        "# Carrega o conteúdo do arquivo .csv para um dataframe\n",
        "df = load_csv_to_dataframe(file_name)\n",
        "\n",
        "# Imprime as últimas 10 linhas do dataframe\n",
        "print(df.tail(10))"
      ],
      "metadata": {
        "colab": {
          "base_uri": "https://localhost:8080/"
        },
        "id": "t7NmBNoEOWGw",
        "outputId": "97cff2ff-6402-4932-d4eb-342f7f01bf06"
      },
      "execution_count": null,
      "outputs": [
        {
          "output_type": "stream",
          "name": "stdout",
          "text": [
            "                           Date       Open       High        Low      Close  \\\n",
            "5868  2023-05-15 00:00:00-03:00  26.059999  26.150000  25.400000  25.660000   \n",
            "5869  2023-05-16 00:00:00-03:00  26.110001  27.030001  26.080000  26.299999   \n",
            "5870  2023-05-17 00:00:00-03:00  26.600000  26.760000  25.510000  25.660000   \n",
            "5871  2023-05-18 00:00:00-03:00  25.590000  25.850000  25.350000  25.809999   \n",
            "5872  2023-05-19 00:00:00-03:00  26.080000  26.180000  25.639999  25.770000   \n",
            "5873  2023-05-22 00:00:00-03:00  25.879999  26.010000  25.500000  25.620001   \n",
            "5874  2023-05-23 00:00:00-03:00  25.650000  26.430000  25.520000  26.250000   \n",
            "5875  2023-05-24 00:00:00-03:00  26.250000  26.900000  26.049999  26.650000   \n",
            "5876  2023-05-25 00:00:00-03:00  26.799999  26.840000  26.190001  26.450001   \n",
            "5877  2023-05-26 00:00:00-03:00  26.809999  26.910000  26.530001  26.799999   \n",
            "\n",
            "         Volume  Dividends  Stock Splits  \n",
            "5868   81996700        0.0           0.0  \n",
            "5869  117782700        0.0           0.0  \n",
            "5870  107129200        0.0           0.0  \n",
            "5871   63010500        0.0           0.0  \n",
            "5872   69245500        0.0           0.0  \n",
            "5873   38010200        0.0           0.0  \n",
            "5874   58285300        0.0           0.0  \n",
            "5875   54796400        0.0           0.0  \n",
            "5876   49182700        0.0           0.0  \n",
            "5877   32893100        0.0           0.0  \n"
          ]
        }
      ]
    },
    {
      "cell_type": "code",
      "source": [
        "\n",
        "#Execute em python o seguinte comando:\n",
        "#\" Crie uma função que receba como entrada (parâmetros) um dataframe de finanças e o\n",
        " #nome de uma de suas colunas e retorne a média e o desvio\n",
        " #padrão dos valores contidos na coluna cujo nome foi recebido como parâmetro.\"\n",
        "import pandas as pd\n",
        "\n",
        "def calcular_media_desvio_padrao(dataframe, coluna):\n",
        "    coluna_valores = dataframe[coluna]\n",
        "    media = coluna_valores.mean()\n",
        "    desvio_padrao = coluna_valores.std()\n",
        "    return media, desvio_padrao\n",
        "\n",
        "# Exemplo de dataframe\n",
        "data = {'Data': ['2022-01-01', '2022-01-02', '2022-01-03', '2022-01-04'],\n",
        "        'Preço': [100.50, 102.75, 98.60, 101.20],\n",
        "        'Volume': [1000, 1500, 800, 1200]}\n",
        "\n",
        "df = pd.DataFrame(data)\n",
        "\n",
        "# Chamar a função para calcular a média e o desvio padrão da coluna 'Idade'\n",
        "media, desvio_padrao = calcular_media_desvio_padrao(df, 'Preço')\n",
        "print(\"Média:\", media)\n",
        "print(\"Desvio Padrão:\", desvio_padrao)"
      ],
      "metadata": {
        "colab": {
          "base_uri": "https://localhost:8080/"
        },
        "id": "Atj1FABtRp5T",
        "outputId": "08851e98-e0c5-48a1-bd3a-5f2503cb0d17"
      },
      "execution_count": null,
      "outputs": [
        {
          "output_type": "stream",
          "name": "stdout",
          "text": [
            "Média: 100.7625\n",
            "Desvio Padrão: 1.7211309266487183\n"
          ]
        }
      ]
    },
    {
      "cell_type": "code",
      "source": [
        "#Execute o seguinte comando em python:\n",
        "#\"Crie uma função que receba como entrada (parâmetros) um dataframe onde cada coluna possui \n",
        "#uma série de números. A função deve receber também o nome de uma das colunas. A função deve \n",
        "#retornar um dataframe resultante, a partir do dataframe de entrada, onde as linhas foram ordenadas\n",
        "# em ordem crescente pelos números da coluna cujo nome foi recebido como parâmetro\"\n",
        "import pandas as pd\n",
        "\n",
        "def ordenar_dataframe_por_coluna(dataframe, coluna):\n",
        "    dataframe_ordenado = dataframe.sort_values(by=coluna)\n",
        "    return dataframe_ordenado\n",
        "\n",
        "# Exemplo de dataframe\n",
        "data = {'Coluna1': [4, 2, 3, 1],\n",
        "        'Coluna2': [8, 6, 7, 5],\n",
        "        'Coluna3': [12, 10, 11, 9]}\n",
        "df = pd.DataFrame(data)\n",
        "\n",
        "# Chamar a função para ordenar o dataframe pela 'Coluna2'\n",
        "coluna_ordenada = ordenar_dataframe_por_coluna(df, 'Coluna2')\n",
        "print(coluna_ordenada)"
      ],
      "metadata": {
        "colab": {
          "base_uri": "https://localhost:8080/"
        },
        "id": "Xb5SDS-MT3gY",
        "outputId": "9c7396c7-56f1-49da-f8e8-ebfac9dffd25"
      },
      "execution_count": null,
      "outputs": [
        {
          "output_type": "stream",
          "name": "stdout",
          "text": [
            "   Coluna1  Coluna2  Coluna3\n",
            "3        1        5        9\n",
            "1        2        6       10\n",
            "2        3        7       11\n",
            "0        4        8       12\n"
          ]
        }
      ]
    },
    {
      "cell_type": "code",
      "source": [
        "#Execute o seguinte comando:\n",
        "#\"escreva uma função em python que receba um arquivo .csv, crie um banco de dados de \n",
        "#nome padrão com ajuda do sqlite, crie uma tabela contendo os dados do \n",
        "#dataframe mantendo os nomes das colunas, e salve o banco de dados num arquivo de saída.\"\n",
        "\n",
        "import sqlite3\n",
        "import pandas as pd\n",
        "\n",
        "def criar_banco_dados(file_name, table_name, output_file):\n",
        "    # Ler o arquivo CSV para um dataframe\n",
        "    dataframe = pd.read_csv(file_name)\n",
        "\n",
        "    # Conectar ao banco de dados SQLite\n",
        "    conn = sqlite3.connect(output_file)\n",
        "\n",
        "    # Salvar o dataframe como uma tabela no banco de dados\n",
        "    dataframe.to_sql(table_name, conn, if_exists='replace', index=False)\n",
        "\n",
        "    # Fechar a conexão com o banco de dados\n",
        "    conn.close()\n",
        "\n",
        "    print(f\"Banco de dados criado com sucesso e salvo em {output_file}\")\n",
        "\n",
        "# Insira o caminho e o nome do arquivo CSV\n",
        "file_name = \"dados_petr4.csv\"\n",
        "\n",
        "# Defina o nome da tabela no banco de dados\n",
        "table_name = \"dados_tabela\"\n",
        "\n",
        "# Defina o nome do arquivo de saída do banco de dados\n",
        "output_file = \"banco_dados.db\"\n",
        "\n",
        "# Chamar a função para criar o banco de dados e salvar os dados\n",
        "criar_banco_dados(file_name, table_name, output_file)"
      ],
      "metadata": {
        "colab": {
          "base_uri": "https://localhost:8080/"
        },
        "id": "Aqm38iyWdk0H",
        "outputId": "dd7782e6-2f7c-41db-bcc0-c0e4fecaaca6"
      },
      "execution_count": null,
      "outputs": [
        {
          "output_type": "stream",
          "name": "stdout",
          "text": [
            "Banco de dados criado com sucesso e salvo em banco_dados.db\n"
          ]
        }
      ]
    }
  ]
}